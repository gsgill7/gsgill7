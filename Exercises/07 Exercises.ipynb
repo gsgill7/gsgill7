{
  "cells": [
    {
      "cell_type": "markdown",
      "metadata": {
        "id": "view-in-github",
        "colab_type": "text"
      },
      "source": [
        "<a href=\"https://colab.research.google.com/github/gsgill7/gsgill7/blob/main/Exercises/07%20Exercises.ipynb\" target=\"_parent\"><img src=\"https://colab.research.google.com/assets/colab-badge.svg\" alt=\"Open In Colab\"/></a>"
      ]
    },
    {
      "cell_type": "markdown",
      "metadata": {
        "id": "Owprdh191TXG"
      },
      "source": [
        "Make NumPy available:"
      ]
    },
    {
      "cell_type": "code",
      "execution_count": 2,
      "metadata": {
        "id": "w8LrOfkl1TXG"
      },
      "outputs": [],
      "source": [
        "import numpy as np"
      ]
    },
    {
      "cell_type": "markdown",
      "metadata": {
        "id": "P7JBIj9f1TXG"
      },
      "source": [
        "## Exercise 07.1 (indexing and timing)\n",
        "\n",
        "Create two very long NumPy 1D-arrays (vectors) `x` and `y` and sum the arrays using:\n",
        "\n",
        "1. The NumPy addition syntax, `z = x + y`; and\n",
        "2. A `for` loop that computes the sum entry-by-entry\n",
        "\n",
        "Compare the time required for the two approaches for arrays of different lengths (use a very long array for\n",
        "the timing). The values of the array entries are not important for this test. Use `%time` to report the time.\n",
        "\n",
        "*Hint:* To loop over an array using indices, try a construction like:"
      ]
    },
    {
      "cell_type": "code",
      "execution_count": null,
      "metadata": {
        "id": "eSJPcKVI1TXH"
      },
      "outputs": [],
      "source": [
        "x = np.ones(10)\n",
        "y = np.ones(len(x))\n",
        "for i in range(len(x)):\n",
        "    print(x[i]*y[i])"
      ]
    },
    {
      "cell_type": "markdown",
      "metadata": {
        "id": "MwUhYeIm1TXH"
      },
      "source": [
        "#### (1) Add two arrays using built-in addition operator:"
      ]
    },
    {
      "cell_type": "code",
      "execution_count": 9,
      "metadata": {
        "nbgrader": {
          "grade": false,
          "grade_id": "cell-2c856e54f7c3340e",
          "locked": false,
          "schema_version": 3,
          "solution": true
        },
        "tags": [],
        "id": "wHjxCccr1TXH",
        "outputId": "9114c8fc-79c9-4dd6-deb2-9fe5051b35f7",
        "colab": {
          "base_uri": "https://localhost:8080/"
        }
      },
      "outputs": [
        {
          "output_type": "stream",
          "name": "stdout",
          "text": [
            "CPU times: user 2.87 ms, sys: 977 µs, total: 3.85 ms\n",
            "Wall time: 3.86 ms\n"
          ]
        }
      ],
      "source": [
        "x = np.random.rand(1000000)\n",
        "y = np.random.rand(1000000)\n",
        "%time z = x+y"
      ]
    },
    {
      "cell_type": "markdown",
      "metadata": {
        "id": "eAswmDtz1TXI"
      },
      "source": [
        "#### (2) Add two arrays using own implementation:"
      ]
    },
    {
      "cell_type": "code",
      "execution_count": 8,
      "metadata": {
        "nbgrader": {
          "grade": false,
          "grade_id": "cell-f34614f9f0068cc4",
          "locked": false,
          "schema_version": 3,
          "solution": true
        },
        "tags": [],
        "id": "iMIu6zvh1TXI",
        "outputId": "1d1131b5-f3d9-493b-8a6f-14785f8cc9d8",
        "colab": {
          "base_uri": "https://localhost:8080/"
        }
      },
      "outputs": [
        {
          "output_type": "stream",
          "name": "stdout",
          "text": [
            "CPU times: user 418 ms, sys: 32.6 ms, total: 450 ms\n",
            "Wall time: 465 ms\n"
          ]
        }
      ],
      "source": [
        "x = np.random.rand(1000000)\n",
        "y = np.random.rand(1000000)\n",
        "\n",
        "def add_arrays(x,y):\n",
        "  z=[]\n",
        "  for i in range(len(x)):\n",
        "      z.append(x[i] + y[i])\n",
        "  return z\n",
        "%time z = add_arrays(x,y)\n",
        "\n"
      ]
    },
    {
      "cell_type": "markdown",
      "metadata": {
        "id": "Ze2A5I8E1TXI"
      },
      "source": [
        "### Optional extension: just-in-time (JIT) compilation\n",
        "\n",
        "You will see a large difference in the time required between your NumPy and 'plain' Python implementations. This is due to Python being an *interpreted* language as opposed to a *compiled* language. A way to speed up plain Python implementions is to convert the interpreted Python code into compiled code. A tool for doing this is [Numba](https://numba.pydata.org/).\n",
        "\n",
        "Below is an example using Numba and JIT to accelerate a computation:"
      ]
    },
    {
      "cell_type": "code",
      "execution_count": 6,
      "metadata": {
        "id": "gGHtw6La1TXI",
        "outputId": "6aeac3ff-337a-4675-d9ac-60fb1fd93b79",
        "colab": {
          "base_uri": "https://localhost:8080/"
        }
      },
      "outputs": [
        {
          "output_type": "stream",
          "name": "stdout",
          "text": [
            "CPU times: user 10.8 ms, sys: 28 ms, total: 38.9 ms\n",
            "Wall time: 38.8 ms\n",
            "CPU times: user 629 ms, sys: 336 ms, total: 965 ms\n",
            "Wall time: 958 ms\n"
          ]
        }
      ],
      "source": [
        "!pip -q install numba\n",
        "import numba\n",
        "import numpy as np\n",
        "import math\n",
        "\n",
        "@numba.jit\n",
        "def add_arrays(x,y):\n",
        "  z=[]\n",
        "  for i in range(len(x)):\n",
        "      z.append(x[i] + y[i])\n",
        "  return z\n",
        "\n",
        "\n",
        "x = np.random.rand(10000000)\n",
        "y = np.random.rand(10000000)\n",
        "%time z = x+y\n",
        "%time z = add_arrays(x,y)"
      ]
    },
    {
      "cell_type": "markdown",
      "metadata": {
        "id": "h8X8jghF1TXJ"
      },
      "source": [
        "**Task:** Test if Numba can be used to accelerate your implementation that uses indexing to sum two arrays, and by how much."
      ]
    },
    {
      "cell_type": "code",
      "execution_count": 7,
      "metadata": {
        "tags": [],
        "id": "e4VMY1F31TXJ",
        "outputId": "c3b36995-f91e-426a-b7d6-3d2b7b0787ec",
        "colab": {
          "base_uri": "https://localhost:8080/"
        }
      },
      "outputs": [
        {
          "output_type": "stream",
          "name": "stdout",
          "text": [
            "CPU times: user 31.4 ms, sys: 8.87 ms, total: 40.2 ms\n",
            "Wall time: 40.3 ms\n",
            "CPU times: user 492 ms, sys: 336 ms, total: 828 ms\n",
            "Wall time: 910 ms\n"
          ]
        }
      ],
      "source": [
        "!pip -q install numba\n",
        "import numba\n",
        "import numpy as np\n",
        "import math\n",
        "\n",
        "@numba.jit\n",
        "def add_arrays(x,y):\n",
        "  z=[]\n",
        "  for i in range(len(x)):\n",
        "      z.append(x[i] + y[i])\n",
        "  return z\n",
        "\n",
        "\n",
        "x = np.random.rand(10000000)\n",
        "y = np.random.rand(10000000)\n",
        "%time z = x+y\n",
        "%time z = add_arrays(x,y)"
      ]
    },
    {
      "cell_type": "markdown",
      "metadata": {
        "id": "78op7e6g1TXJ"
      },
      "source": [
        "## Exercise 07.2 (member functions and slicing)\n",
        "\n",
        "Anonymised scores (out of 60) for an examination are stored in a NumPy array. Write:\n",
        "\n",
        "1. A function that takes a NumPy array of the raw scores and returns the scores as percentages, sorted from\n",
        "   lowest to highest (try using `scores.sort()`, where `scores` is a NumPy array holding the scores).\n",
        "1. A function that returns the maximum, minimum and mean of the raw scores as a dictionary with the\n",
        "   keys '`min`', '`max`' and '`mean`'. Use the NumPy array functions `min()`, `max()` and `mean()` to do the\n",
        "   computation, e.g. `max = scores.max()`.  \n",
        "   \n",
        "   Design your function for the min, max and mean to optionally exclude the highest and lowest scores from the\n",
        "   computation of the min, max and mean.\n",
        "   \n",
        "   *Hint:* sort the array of scores and use array slicing to exclude\n",
        "   the first and the last entries.\n",
        "\n",
        "Use the scores\n",
        "```python\n",
        "scores = np.array([58.0, 35.0, 24.0, 42, 7.8])\n",
        "```\n",
        "to test your functions."
      ]
    },
    {
      "cell_type": "code",
      "execution_count": 10,
      "metadata": {
        "nbgrader": {
          "grade": false,
          "grade_id": "cell-169ebae60810c6be",
          "locked": false,
          "schema_version": 3,
          "solution": true
        },
        "tags": [],
        "id": "2vtAij5t1TXJ"
      },
      "outputs": [],
      "source": [
        "def to_percentage_and_sort(scores):\n",
        "    percentages = scores / 60 * 100\n",
        "    percentages.sort()\n",
        "    return percentages\n",
        "\n",
        "def statistics(scores, exclude=False):\n",
        "    if exclude:\n",
        "        scores = scores[1:-1]\n",
        "    else:\n",
        "        scores = scores\n",
        "    return {\"min\": scores.min(), \"max\": scores.max(), \"mean\": scores.mean()}"
      ]
    },
    {
      "cell_type": "code",
      "execution_count": 11,
      "metadata": {
        "nbgrader": {
          "grade": true,
          "grade_id": "cell-af0b6fd8a3cadb1a",
          "locked": true,
          "points": 0,
          "schema_version": 3,
          "solution": false
        },
        "id": "e7h57jRm1TXK"
      },
      "outputs": [],
      "source": [
        "## tests ##\n",
        "\n",
        "scores = np.array([58.0, 35.0, 24.0, 42, 7.8])\n",
        "assert np.isclose(to_percentage_and_sort(scores), [ 13.0, 40.0, 58.33333333,  70.0, 96.66666667]).all()\n",
        "\n",
        "s0 = statistics(scores)\n",
        "assert np.isclose(s0[\"min\"], 7.8)\n",
        "assert np.isclose(s0[\"mean\"], 33.36)\n",
        "assert np.isclose(s0[\"max\"], 58.0)\n",
        "\n",
        "s1 = statistics(scores, True)\n",
        "assert np.isclose(s1[\"min\"], 24.0)\n",
        "assert np.isclose(s1[\"mean\"], 33.666666666666666667)\n",
        "assert np.isclose(s1[\"max\"], 42.0)"
      ]
    },
    {
      "cell_type": "markdown",
      "metadata": {
        "nbgrader": {
          "grade": false,
          "grade_id": "cell-27beb42d6b15acad",
          "locked": true,
          "schema_version": 3,
          "solution": false
        },
        "id": "Kvsuqv8V1TXK"
      },
      "source": [
        "## Exercise 07.3 (slicing)\n",
        "\n",
        "For the two-dimensional array"
      ]
    },
    {
      "cell_type": "code",
      "execution_count": 13,
      "metadata": {
        "nbgrader": {
          "grade": false,
          "grade_id": "cell-73a8893e46856789",
          "locked": true,
          "schema_version": 3,
          "solution": false
        },
        "id": "93oVEJl01TXK",
        "outputId": "b0df92eb-14ae-4bd3-cfd8-024073cbfa6a",
        "colab": {
          "base_uri": "https://localhost:8080/"
        }
      },
      "outputs": [
        {
          "output_type": "stream",
          "name": "stdout",
          "text": [
            "[[   4.      7.     -2.43   67.1 ]\n",
            " [  -4.     64.     54.7    -3.33]\n",
            " [   2.43   23.2     3.64    4.11]\n",
            " [   1.2     2.5  -113.2   323.22]]\n"
          ]
        }
      ],
      "source": [
        "A = np.array([[4.0, 7.0, -2.43, 67.1],\n",
        "             [-4.0, 64.0, 54.7, -3.33],\n",
        "             [2.43, 23.2, 3.64, 4.11],\n",
        "             [1.2, 2.5, -113.2, 323.22]])\n",
        "print(A)"
      ]
    },
    {
      "cell_type": "markdown",
      "metadata": {
        "id": "pKGn-eWx1TXK"
      },
      "source": [
        "use array slicing for the below operations, printing the results to the screen to check. Try to use array slicing such that your code would still work if the dimensions of `A` were enlarged.\n",
        "\n",
        "**Check your results carefully against hand computations.**"
      ]
    },
    {
      "cell_type": "markdown",
      "metadata": {
        "nbgrader": {
          "grade": false,
          "grade_id": "cell-f6744c8a86e68cac",
          "locked": true,
          "schema_version": 3,
          "solution": false
        },
        "id": "P3WIeqlr1TXK"
      },
      "source": [
        "#### 1. Extract the third column as a 1D array"
      ]
    },
    {
      "cell_type": "code",
      "execution_count": 14,
      "metadata": {
        "nbgrader": {
          "grade": false,
          "grade_id": "cell-dfee6b0ed9343682",
          "locked": false,
          "schema_version": 3,
          "solution": true
        },
        "tags": [],
        "id": "-IppRhZi1TXK",
        "outputId": "7ebbfd58-2325-48fa-eec2-daeb3fed8b02",
        "colab": {
          "base_uri": "https://localhost:8080/"
        }
      },
      "outputs": [
        {
          "output_type": "stream",
          "name": "stdout",
          "text": [
            "[  -2.43   54.7     3.64 -113.2 ]\n"
          ]
        }
      ],
      "source": [
        "x = np.zeros(4)\n",
        "for i in range(len(A)):\n",
        "  x[i]=A[i][2]\n",
        "print(x)"
      ]
    },
    {
      "cell_type": "markdown",
      "metadata": {
        "id": "rGkt7by-1TXK"
      },
      "source": [
        "#### 2. Extract the first two rows as a 2D sub-array"
      ]
    },
    {
      "cell_type": "code",
      "execution_count": 16,
      "metadata": {
        "nbgrader": {
          "grade": true,
          "grade_id": "cell-7bf2f9a8c67029f8",
          "locked": false,
          "points": 0,
          "schema_version": 3,
          "solution": true
        },
        "tags": [],
        "id": "ks3BCJSY1TXK",
        "outputId": "0b6af677-63f7-49da-9240-7339da2ff59f",
        "colab": {
          "base_uri": "https://localhost:8080/"
        }
      },
      "outputs": [
        {
          "output_type": "stream",
          "name": "stdout",
          "text": [
            "[[ 4.    7.   -2.43 67.1 ]\n",
            " [-4.   64.   54.7  -3.33]]\n"
          ]
        }
      ],
      "source": [
        "x=A[0:2]\n",
        "print(x)\n"
      ]
    },
    {
      "cell_type": "markdown",
      "metadata": {
        "id": "wj5_ZBZs1TXL"
      },
      "source": [
        "#### 3.  Extract the bottom-right $2 \\times 2$ block as a 2D sub-array"
      ]
    },
    {
      "cell_type": "code",
      "execution_count": 18,
      "metadata": {
        "nbgrader": {
          "grade": false,
          "grade_id": "cell-5206fea47d246222",
          "locked": false,
          "schema_version": 3,
          "solution": true
        },
        "tags": [],
        "id": "xyyMjG_I1TXL",
        "outputId": "9e3fc577-894a-4108-cba1-6fd9a8271134",
        "colab": {
          "base_uri": "https://localhost:8080/"
        }
      },
      "outputs": [
        {
          "output_type": "stream",
          "name": "stdout",
          "text": [
            "[]\n"
          ]
        }
      ],
      "source": [
        "x=A[2:4,2:4]\n",
        "print(x)"
      ]
    },
    {
      "cell_type": "markdown",
      "metadata": {
        "id": "t1FTKhmt1TXL"
      },
      "source": [
        "#### 4. Sum the last column"
      ]
    },
    {
      "cell_type": "code",
      "execution_count": 20,
      "metadata": {
        "nbgrader": {
          "grade": false,
          "grade_id": "cell-34f74988e47b9f87",
          "locked": false,
          "schema_version": 3,
          "solution": true
        },
        "tags": [],
        "id": "TSl_uFbT1TXL",
        "outputId": "cd6972e9-9b9f-4c38-c7d0-a30f56477eab",
        "colab": {
          "base_uri": "https://localhost:8080/"
        }
      },
      "outputs": [
        {
          "output_type": "stream",
          "name": "stdout",
          "text": [
            "391.1\n"
          ]
        }
      ],
      "source": [
        "x=0\n",
        "for i in A:\n",
        "  x+=i[3]\n",
        "print(x)"
      ]
    },
    {
      "cell_type": "markdown",
      "metadata": {
        "id": "xLXsyJNO1TXL"
      },
      "source": [
        "#### Compute transpose\n",
        "\n",
        "Compute the transpose of `A` (search online to find the function/syntax to do this)."
      ]
    },
    {
      "cell_type": "code",
      "execution_count": 22,
      "metadata": {
        "nbgrader": {
          "grade": false,
          "grade_id": "cell-dd2999d2da8070f6",
          "locked": false,
          "schema_version": 3,
          "solution": true
        },
        "tags": [],
        "id": "ARWmZceS1TXL",
        "outputId": "05895506-d895-47e2-a418-58c339f1d17b",
        "colab": {
          "base_uri": "https://localhost:8080/"
        }
      },
      "outputs": [
        {
          "output_type": "stream",
          "name": "stdout",
          "text": [
            "[[   4.     -4.      2.43    1.2 ]\n",
            " [   7.     64.     23.2     2.5 ]\n",
            " [  -2.43   54.7     3.64 -113.2 ]\n",
            " [  67.1    -3.33    4.11  323.22]]\n"
          ]
        }
      ],
      "source": [
        "x=np.transpose(A)\n",
        "print(x)"
      ]
    },
    {
      "cell_type": "markdown",
      "metadata": {
        "nbgrader": {
          "grade": false,
          "grade_id": "cell-f1255669c8aa78d2",
          "locked": true,
          "schema_version": 3,
          "solution": false
        },
        "id": "AAmBm8f_1TXL"
      },
      "source": [
        "## Exercise 07.4 (optional extension)\n",
        "\n",
        "In a previous exercise you implemented the bisection algorithm to find approximate roots of a mathematical function. Use the SciPy bisection function `optimize.bisect` (https://docs.scipy.org/doc/scipy/reference/generated/scipy.optimize.bisect.html) to find roots of the mathematical function that was used in the previous exercise. Compare the results computed by SciPy and your program from the earlier exercise, and compare the computational time (using `%time`)."
      ]
    },
    {
      "cell_type": "code",
      "execution_count": null,
      "metadata": {
        "nbgrader": {
          "grade": false,
          "grade_id": "cell-b6580accbcb3c2da",
          "locked": false,
          "schema_version": 3,
          "solution": true
        },
        "tags": [],
        "id": "CIXcPYr11TXL"
      },
      "outputs": [],
      "source": [
        "from scipy import optimize\n",
        "\n",
        "..."
      ]
    }
  ],
  "metadata": {
    "celltoolbar": "Create Assignment",
    "kernelspec": {
      "display_name": "Python 3 (ipykernel)",
      "language": "python",
      "name": "python3"
    },
    "language_info": {
      "codemirror_mode": {
        "name": "ipython",
        "version": 3
      },
      "file_extension": ".py",
      "mimetype": "text/x-python",
      "name": "python",
      "nbconvert_exporter": "python",
      "pygments_lexer": "ipython3",
      "version": "3.10.6"
    },
    "otter": {
      "OK_FORMAT": true,
      "assignment_name": "Exercises 7",
      "tests": {}
    },
    "colab": {
      "provenance": [],
      "include_colab_link": true
    }
  },
  "nbformat": 4,
  "nbformat_minor": 0
}