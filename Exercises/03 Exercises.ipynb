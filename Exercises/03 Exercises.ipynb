{
  "cells": [
    {
      "cell_type": "markdown",
      "metadata": {
        "id": "view-in-github",
        "colab_type": "text"
      },
      "source": [
        "<a href=\"https://colab.research.google.com/github/gsgill7/gsgill7/blob/main/Exercises/03%20Exercises.ipynb\" target=\"_parent\"><img src=\"https://colab.research.google.com/assets/colab-badge.svg\" alt=\"Open In Colab\"/></a>"
      ]
    },
    {
      "cell_type": "markdown",
      "metadata": {
        "nbgrader": {
          "grade": false,
          "grade_id": "cell-bccc9a5624d0e0f9",
          "locked": true,
          "schema_version": 3,
          "solution": false
        },
        "id": "taIIkfIKEDHb"
      },
      "source": [
        "<!-- BEGIN QUESTION -->\n",
        "\n",
        "## Exercise 03.1\n",
        "\n",
        "Compare the computed values of\n",
        "\n",
        "$$\n",
        "d_0 = a \\cdot b + a  \\cdot  c\n",
        "$$\n",
        "\n",
        "and\n",
        "\n",
        "$$\n",
        "d_1 = a \\cdot (b + c)\n",
        "$$\n",
        "\n",
        "when $a = 100$, $b = 0.1$ and $c = 0.2$. Store $d_{0}$ in the variable `d0` and $d_{1}$ in the variable `d1`.\n",
        "\n",
        "\n",
        "Try checking for equality, e.g. `print(d0 == d1)`."
      ]
    },
    {
      "cell_type": "code",
      "execution_count": 2,
      "metadata": {
        "nbgrader": {
          "grade": false,
          "grade_id": "cell-447110c225124fc4",
          "locked": false,
          "schema_version": 3,
          "solution": true
        },
        "tags": [],
        "colab": {
          "base_uri": "https://localhost:8080/"
        },
        "id": "hHFkP_MnEDHd",
        "outputId": "dea44dd1-b4bd-409b-b48a-2c029e4c87dd"
      },
      "outputs": [
        {
          "output_type": "stream",
          "name": "stdout",
          "text": [
            "30.0\n",
            "30.000000000000004\n",
            "False\n"
          ]
        }
      ],
      "source": [
        "a = 100\n",
        "b = 0.1\n",
        "c = 0.2\n",
        "\n",
        "# Compute d0 and d1\n",
        "\n",
        "d0 = (a*b)+(a*c)\n",
        "print(d0)\n",
        "\n",
        "d1 = a*(b+c)\n",
        "print(d1)\n",
        "\n",
        "print(d0 == d1)"
      ]
    },
    {
      "cell_type": "code",
      "execution_count": 3,
      "metadata": {
        "nbgrader": {
          "grade": true,
          "grade_id": "cell-91f2d89d88ea86c0",
          "locked": true,
          "points": 0,
          "schema_version": 3,
          "solution": false
        },
        "id": "_qH5qIphEDHe"
      },
      "outputs": [],
      "source": [
        "## tests ##\n",
        "assert d0 == 30.0\n",
        "assert d1 != 30.0\n",
        "assert d0 != d1"
      ]
    },
    {
      "cell_type": "markdown",
      "metadata": {
        "id": "LGuM3ClwEDHf"
      },
      "source": [
        "<!-- END QUESTION -->\n",
        "\n",
        "## Exercise 03.2\n",
        "\n",
        "For the polynomial\n",
        "\\begin{align}\n",
        "f(x, y) &= (x + y)^{6}\n",
        "\\\\\n",
        "&=  x^6 + 6x^{5}y + 15x^{4}y^{2} + 20x^{3}y^{3} + 15x^{2}y^{4} + 6xy^{5} + y^{6}\n",
        "\\end{align}\n",
        "compute $f$ using: (i) the compact form $(x + y)^{6}$; and (ii) the expanded form for:\n",
        "\n",
        "(a) $x = 10$ and $y = 10.1$\n",
        "\n",
        "(b) $x = 10$ and $y = -10.1$\n",
        "\n",
        "and compare the number of significant digits for which the answers are the same.\n",
        "Store the answer for the compact version using the variable `f0`, and using the variable `f1` for the expanded version.\n",
        "\n",
        "For case (b), compare the computed and analytical solutions and consider the relative error.\n",
        "Which approach would you recommend for computing this expression?"
      ]
    },
    {
      "cell_type": "markdown",
      "metadata": {
        "id": "huMWabMDEDHf"
      },
      "source": [
        "#### (a) $x = 10$ and $y = 10.1$"
      ]
    },
    {
      "cell_type": "code",
      "execution_count": 1,
      "metadata": {
        "nbgrader": {
          "grade": false,
          "grade_id": "cell-e8428e3de87d5500",
          "locked": false,
          "schema_version": 3,
          "solution": true
        },
        "tags": [],
        "colab": {
          "base_uri": "https://localhost:8080/"
        },
        "id": "G6sC3WrKEDHf",
        "outputId": "2970599a-b4a7-4056-ab32-7f5d99e99936"
      },
      "outputs": [
        {
          "output_type": "stream",
          "name": "stdout",
          "text": [
            "65944160.60120103\n",
            "65944160.601201\n",
            "2.9802322387695312e-08\n",
            "False\n"
          ]
        }
      ],
      "source": [
        "x = 10.0\n",
        "y = 10.1\n",
        "#compact version\n",
        "f0 = (x + y)**6\n",
        "print(f0)\n",
        "#expanded version\n",
        "f1 = x**6 + 6*(x**5)*y + 15*(x**4)*(y**2) + 20*(x**3)*(y**3) + 15*(x**2)*(y**4) + 6*x*(y**5) + y**6\n",
        "print(f1)\n",
        "#compare them\n",
        "print(f0-f1)\n",
        "print(f0 == f1)"
      ]
    },
    {
      "cell_type": "code",
      "execution_count": 2,
      "metadata": {
        "nbgrader": {
          "grade": true,
          "grade_id": "cell-55d184514edf3a67",
          "locked": true,
          "points": 0,
          "schema_version": 3,
          "solution": false
        },
        "id": "XXSAwjrsEDHf"
      },
      "outputs": [],
      "source": [
        "## tests ##\n",
        "import math\n",
        "assert math.isclose(f0, 65944160.60120103, rel_tol=1e-10)\n",
        "assert math.isclose(f1, 65944160.601201, rel_tol=1e-10)"
      ]
    },
    {
      "cell_type": "markdown",
      "metadata": {
        "id": "6zn-P-IoEDHf"
      },
      "source": [
        "#### (b) $x = 10$ and $y = -10.1$"
      ]
    },
    {
      "cell_type": "code",
      "execution_count": 9,
      "metadata": {
        "nbgrader": {
          "grade": false,
          "grade_id": "cell-1561d20281ff67f6",
          "locked": false,
          "schema_version": 3,
          "solution": true
        },
        "tags": [],
        "colab": {
          "base_uri": "https://localhost:8080/"
        },
        "id": "9woM66-FEDHf",
        "outputId": "b4aaf539-8bf4-4d7d-a9af-5b9a0a3192f7"
      },
      "outputs": [
        {
          "output_type": "stream",
          "name": "stdout",
          "text": [
            "9.999999999999788e-07\n",
            "9.958166629076004e-07\n",
            "4.183337092378376e-09\n",
            "False\n",
            "2.120525977034049e-12\n",
            "0.4183337092399597\n"
          ]
        }
      ],
      "source": [
        "x = 10.0\n",
        "y = -10.1\n",
        "#compact version\n",
        "f0 = (x + y)**6\n",
        "print(f0)\n",
        "#expanded version\n",
        "f1 = x**6 + 6*(x**5)*y + 15*(x**4)*(y**2) + 20*(x**3)*(y**3) + 15*(x**2)*(y**4) + 6*x*(y**5) + y**6\n",
        "print(f1)\n",
        "#compare them\n",
        "print(f0-f1)\n",
        "print(f0 == f1)\n",
        "\n",
        "# % error\n",
        "print((1-((f0)/(1e-6)))*100)\n",
        "print((1-((f1)/(1e-6)))*100)\n",
        "# hence would use f0 as much lower % error"
      ]
    },
    {
      "cell_type": "code",
      "execution_count": 10,
      "metadata": {
        "id": "rGRe7ncvEDHg"
      },
      "outputs": [],
      "source": [
        "## tests ##\n",
        "import math\n",
        "assert math.isclose(f0, 1.0e-6, rel_tol=1e-10)\n",
        "assert math.isclose(f1, 1.0e-6, rel_tol=1e-2)"
      ]
    },
    {
      "cell_type": "markdown",
      "metadata": {
        "id": "ckuhuWRWEDHg"
      },
      "source": [
        "## Exercise 03.3\n",
        "\n",
        "Consider the expression\n",
        "\n",
        "$$\n",
        "f = \\frac{1}{\\sqrt{x^2 - 1} - x}\n",
        "$$\n",
        "\n",
        "When $x$ is very large, the denominator approaches zero, which can cause problems.\n",
        "\n",
        "Try rephrasing the problem and eliminating the fraction by multiplying the numerator and denominator by $\\sqrt{x^2 - 1} + x$ and evaluate the two versions of the expression when:\n",
        "\n",
        "(a) $x = 1 \\times 10^{7}$\n",
        "\n",
        "(b) $x = 1 \\times 10^{9}$ (You may get a Python error for this case. Why?)"
      ]
    },
    {
      "cell_type": "markdown",
      "metadata": {
        "nbgrader": {
          "grade": false,
          "grade_id": "cell-53e1abf388eedabe",
          "locked": true,
          "schema_version": 3,
          "solution": false
        },
        "id": "czZ7C4sREDHg"
      },
      "source": [
        "#### (a) $x = 1 \\times 10^{7}$"
      ]
    },
    {
      "cell_type": "code",
      "execution_count": 14,
      "metadata": {
        "nbgrader": {
          "grade": true,
          "grade_id": "cell-149ac8791e7ff020",
          "locked": false,
          "points": 0,
          "schema_version": 3,
          "solution": true
        },
        "tags": [],
        "colab": {
          "base_uri": "https://localhost:8080/"
        },
        "id": "DElnw2APEDHg",
        "outputId": "d04d392b-3a94-4f5a-c67a-05aac3d77c1d"
      },
      "outputs": [
        {
          "output_type": "stream",
          "name": "stdout",
          "text": [
            "-19884107.85185185\n",
            "-19999999.999999948\n"
          ]
        }
      ],
      "source": [
        "x=1e7\n",
        "f0 = 1/(((x**2-1)**(1/2))-x)\n",
        "print(f0)\n",
        "f1 = -1*((x**2-1)**(1/2)+x)\n",
        "print(f1)"
      ]
    },
    {
      "cell_type": "markdown",
      "metadata": {
        "nbgrader": {
          "grade": false,
          "grade_id": "cell-bcc863a1c5c8a6f8",
          "locked": true,
          "schema_version": 3,
          "solution": false
        },
        "id": "HHaKGd9FEDHh"
      },
      "source": [
        "#### (b) $x = 1 \\times 10^{9}$"
      ]
    },
    {
      "cell_type": "code",
      "execution_count": 20,
      "metadata": {
        "nbgrader": {
          "grade": true,
          "grade_id": "cell-4ef986ef1f5838ba",
          "locked": false,
          "points": 0,
          "schema_version": 3,
          "solution": true
        },
        "tags": [],
        "colab": {
          "base_uri": "https://localhost:8080/"
        },
        "id": "8E0UthBUEDHh",
        "outputId": "5596bdb4-5144-465b-ed33-956339a93d37"
      },
      "outputs": [
        {
          "output_type": "stream",
          "name": "stdout",
          "text": [
            "0.0\n",
            "0.0000000000000000000000000000000000000000000000000000000000000000\n",
            "-2000000000.0\n"
          ]
        }
      ],
      "source": [
        "x=1e9\n",
        "#f0 = 1/(((x**2-1)**(1/2))-x)\n",
        "f0_denominator = ((x**2-1)**(1/2))-x\n",
        "print(f0_denominator)\n",
        "print('{0:.64f}'.format(f0_denominator))\n",
        "#print(f0)  - error float division by 0 - too close to 0\n",
        "f1 = -1*((x**2-1)**(1/2)+x)\n",
        "print(f1)"
      ]
    }
  ],
  "metadata": {
    "celltoolbar": "Create Assignment",
    "kernelspec": {
      "display_name": "Python 3 (ipykernel)",
      "language": "python",
      "name": "python3"
    },
    "language_info": {
      "codemirror_mode": {
        "name": "ipython",
        "version": 3
      },
      "file_extension": ".py",
      "mimetype": "text/x-python",
      "name": "python",
      "nbconvert_exporter": "python",
      "pygments_lexer": "ipython3",
      "version": "3.10.6"
    },
    "otter": {
      "OK_FORMAT": true,
      "assignment_name": "Exercises 3",
      "tests": {}
    },
    "colab": {
      "provenance": [],
      "include_colab_link": true
    }
  },
  "nbformat": 4,
  "nbformat_minor": 0
}