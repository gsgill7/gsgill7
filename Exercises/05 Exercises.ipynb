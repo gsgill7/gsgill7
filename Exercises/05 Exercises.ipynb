{
  "cells": [
    {
      "cell_type": "markdown",
      "metadata": {
        "id": "view-in-github",
        "colab_type": "text"
      },
      "source": [
        "<a href=\"https://colab.research.google.com/github/gsgill7/gsgill7/blob/main/Exercises/05%20Exercises.ipynb\" target=\"_parent\"><img src=\"https://colab.research.google.com/assets/colab-badge.svg\" alt=\"Open In Colab\"/></a>"
      ]
    },
    {
      "cell_type": "markdown",
      "metadata": {
        "nbgrader": {
          "grade": false,
          "grade_id": "cell-430d835796356075",
          "locked": true,
          "schema_version": 3,
          "solution": false
        },
        "id": "Sh30wrN-B8Sl"
      },
      "source": [
        "## Exercise 05.1 (random numbers)\n",
        "\n",
        "- Using the `randint` function from the `random` module (https://docs.python.org/3/library/random.html#random.randint) to\n",
        "  develop a function `dice_roll` that emulates the roll of a dice with $n$ sides. The number of sides `n` should an argument to the function.\n",
        "\n",
        "- For $n=6$, devise and implement a test to check that it is a fair dice."
      ]
    },
    {
      "cell_type": "markdown",
      "metadata": {
        "nbgrader": {
          "grade": false,
          "grade_id": "cell-12092bd5f2adea76",
          "locked": true,
          "schema_version": 3,
          "solution": false
        },
        "id": "k6a8lVWbB8Sn"
      },
      "source": [
        "#### (a) Dice roll code:"
      ]
    },
    {
      "cell_type": "code",
      "execution_count": 6,
      "metadata": {
        "nbgrader": {
          "grade": false,
          "grade_id": "cell-70a83466894475ee",
          "locked": false,
          "schema_version": 3,
          "solution": true
        },
        "tags": [],
        "id": "M1hbfcqLB8Sn"
      },
      "outputs": [],
      "source": [
        "import random\n",
        "def dice_roll(n):\n",
        "  roll = random.randint(1,n)\n",
        "  return roll"
      ]
    },
    {
      "cell_type": "code",
      "execution_count": 7,
      "metadata": {
        "nbgrader": {
          "grade": true,
          "grade_id": "cell-0970743b0c035f78",
          "locked": true,
          "points": 0,
          "schema_version": 3,
          "solution": false
        },
        "id": "q-I9Rc_BB8So"
      },
      "outputs": [],
      "source": [
        "## tests ##\n",
        "for n in range(1, 20):\n",
        "    for j in range(100):\n",
        "        value = dice_roll(n)\n",
        "        assert value >= 1 and value <= n"
      ]
    },
    {
      "cell_type": "markdown",
      "metadata": {
        "nbgrader": {
          "grade": false,
          "grade_id": "cell-8fd8c957cbce8e91",
          "locked": true,
          "schema_version": 3,
          "solution": false
        },
        "id": "9AGnePwAB8So"
      },
      "source": [
        "#### (b) Test for fairness"
      ]
    },
    {
      "cell_type": "code",
      "execution_count": 12,
      "metadata": {
        "nbgrader": {
          "grade": true,
          "grade_id": "cell-0826760c62c21bff",
          "locked": false,
          "points": 0,
          "schema_version": 3,
          "solution": true
        },
        "tags": [],
        "colab": {
          "base_uri": "https://localhost:8080/"
        },
        "id": "pNHXiRJUB8So",
        "outputId": "0556f8fc-6715-4598-b9e5-096157c83c16"
      },
      "outputs": [
        {
          "output_type": "stream",
          "name": "stdout",
          "text": [
            "[200393, 199490, 200220, 200071, 200049, 199777]\n",
            "1 -0.19649999999999945\n",
            "2 0.2550000000000052\n",
            "3 -0.11000000000001009\n",
            "4 -0.03550000000001052\n",
            "5 -0.024500000000005073\n",
            "6 0.11149999999999771\n"
          ]
        }
      ],
      "source": [
        "# To check for fairness, we roll the dice a large number of times and check how many times we get each value.\n",
        "# We expect to get each value close to $1/6$ of the times.\n",
        "roll_values=[0,0,0,0,0,0]\n",
        "n_rolls = 1200000\n",
        "for n in range (0,n_rolls):\n",
        "  roll = dice_roll(6)\n",
        "  roll_values[roll-1] += 1\n",
        "print(roll_values)\n",
        "for value in roll_values:\n",
        "  print(roll_values.index(value)+1 , (1-(value/(n_rolls//6)))*100)"
      ]
    },
    {
      "cell_type": "markdown",
      "metadata": {
        "id": "fkaCMlNLB8So"
      },
      "source": [
        "## Exercise 05.2 (variance estimation)\n",
        "\n",
        "For a random variable $X$, the variance of $X$ is defined as  \n",
        "\n",
        "$$\n",
        "\\begin{align}\n",
        "\\mathrm{Var}\\left[ X \\right] &= \\mathrm{E}\\left[\\left( X - \\mu \\right)^2\\right]  \\\\\n",
        "&= \\mathrm{E}\\left[ X^{2} \\right] - \\mathrm{E}\\left[ X \\right]^2\n",
        "\\end{align}\n",
        "$$\n",
        "\n",
        "where $\\mathrm{E}$ is the 'expectation' (mean of something) and $\\mu = \\mathrm{E}(X)$ is the mean of $X$. If we have all data (the entire 'population'),\n",
        "the variance can be computed from:\n",
        "\n",
        "$$\n",
        "\\mathrm{Var}\\left[ X \\right] = \\frac{\\sum_{i=0}^{N-1} x^{2}_{i}}{N} - \\left( \\frac{ \\left( \\sum_{i=0}^{N-1} x_{i} \\right)}{N} \\right)^{2}\n",
        "$$\n",
        "\n",
        "Often, we only have a sample of data. For example, we might want to estimate the variance in height for students at a university using just a random sample of students.\n",
        "When using a sample from a larger data set to estimate the variance, the above formula has a *bias*. Therefore, it is common to use the *unbiased* estimator\n",
        "\n",
        "$$\n",
        "s^{2} = \\left( \\frac{\\sum_{i=0}^{n-1} x^{2}_{i}}{n} - \\left( \\frac{ \\left( \\sum_{i=0}^{n-1} x_{i} \\right)}{n} \\right)^{2} \\right) \\frac{n}{n-1}\n",
        "$$\n",
        "\n",
        "to estimate the variance. In this exercise we will use the unbiased estimator.\n",
        "\n",
        "1. Create a function that returns the estimated variance for a list of numbers based on the above equation. Test your function using 1 million samples drawn from a Gaussian distribution with a mean of 10 and a standard deviation of 3. Use your crsid to seed the random number generator\n",
        "   \n",
        "   *See hint below on how to create the sample.*\n",
        "\n",
        "2. For a sample drawn from a distribution with mean $5 \\times 10^6$ and standard deviation $2.0$, estimate the variance using (i) your function for estimating the variance, and (ii) using the `variance` function from the Python `statistics` module. Comment on and explain any significant differences in the results from (i) and (ii)."
      ]
    },
    {
      "cell_type": "markdown",
      "metadata": {
        "id": "3hcN_j0jB8So"
      },
      "source": [
        "### Hint: sampling from a distribution\n",
        "\n",
        "The function `random.gauss` can be used to sample a Gaussian distribution with a specified mean and standard deviation (square root of the variance) *N* times, e.g.:"
      ]
    },
    {
      "cell_type": "code",
      "execution_count": 13,
      "metadata": {
        "colab": {
          "base_uri": "https://localhost:8080/"
        },
        "id": "tXykVLwUB8So",
        "outputId": "306f48b7-a597-4d21-ceb4-16be41504011"
      },
      "outputs": [
        {
          "output_type": "stream",
          "name": "stdout",
          "text": [
            "[16.11054500918577, 6.197176283209556, 6.6685586430367, 12.860061528122342, 16.400338694586356, 7.141555964766771, 7.12018173076307, 4.215875907517725]\n"
          ]
        }
      ],
      "source": [
        "import random\n",
        "\n",
        "random.seed(\"gsg27\")  # See the random number generator\n",
        "\n",
        "mu = 10.0    # mean of the distribution\n",
        "sigma = 3.0  # Standard deviation\n",
        "x = [random.gauss(mu, sigma) for i in range(8)]\n",
        "print(x)"
      ]
    },
    {
      "cell_type": "markdown",
      "metadata": {
        "id": "u27AR096B8Sp"
      },
      "source": [
        "### Solution"
      ]
    },
    {
      "cell_type": "markdown",
      "metadata": {
        "id": "vkmXIpg5B8Sp"
      },
      "source": [
        "1. Estimate variance"
      ]
    },
    {
      "cell_type": "code",
      "execution_count": 14,
      "metadata": {
        "tags": [],
        "colab": {
          "base_uri": "https://localhost:8080/"
        },
        "id": "uM83QHTRB8Sp",
        "outputId": "967d6819-9d78-43c4-aca9-e658733edaf8"
      },
      "outputs": [
        {
          "output_type": "stream",
          "name": "stdout",
          "text": [
            "[9.698397054582696, 14.838962120856172, 12.374966989118485, 4.599557323097943, 10.387122695416199, 11.068491466324526, 9.620258486003637, 14.215059687424684]\n",
            "10.247064277240561\n"
          ]
        }
      ],
      "source": [
        "import random\n",
        "\n",
        "mu = 10.0    # mean of the distribution\n",
        "sigma = 3.0  # Standard deviation\n",
        "x = [random.gauss(mu, sigma) for i in range(8)]\n",
        "print(x)\n",
        "\n",
        "\n",
        "random.seed(\"gsg27\")\n",
        "def e(x):\n",
        "  sum = 0\n",
        "  for i in range(len(x)):\n",
        "    sum += x[i]\n",
        "  return sum/len(x)\n",
        "def e_squared(x):\n",
        "  sum = 0\n",
        "  for i in range(len(x)):\n",
        "    sum += x[i]**2\n",
        "  return sum/len(x)\n",
        "def variance(x):\n",
        "  variance = (e_squared(x)-e(x)**2)*(len(x)/(len(x)-1))\n",
        "  return variance\n",
        "print(variance(x))"
      ]
    },
    {
      "cell_type": "markdown",
      "metadata": {
        "id": "Z89iXPUdB8Sp"
      },
      "source": [
        "2. Use the `statistics` module to estimate the variance, and compare the estimated variance using `statistics` to the estimated variance using your implementation for the variance estimation."
      ]
    },
    {
      "cell_type": "code",
      "execution_count": 17,
      "metadata": {
        "tags": [],
        "colab": {
          "base_uri": "https://localhost:8080/"
        },
        "id": "X9OxXMUxB8Sp",
        "outputId": "507800f8-7c79-424e-eb1f-c5a19021824b"
      },
      "outputs": [
        {
          "output_type": "stream",
          "name": "stdout",
          "text": [
            "10.247064277240534\n",
            "10.247064277240561\n",
            "-2.600291348829049e-13\n"
          ]
        }
      ],
      "source": [
        "import statistics\n",
        "print(statistics.variance(x))\n",
        "print(variance(x))\n",
        "print(((statistics.variance(x)-variance(x))/statistics.variance(x))*100)"
      ]
    },
    {
      "cell_type": "markdown",
      "metadata": {
        "id": "6jW8igB8B8Sq"
      },
      "source": [
        "## Exercise 05.03 (optional, parallel processing)\n",
        "\n",
        "Almost all modern computer processing units have multiple processing *cores*. To utilise the full performance of a processor, operations need to be performed in *parallel*, i.e. each processing core is given a task to perform.\n",
        "\n",
        "Parallel computing is a very rich and technical area. To help exploit multi-core systems there are libraries that support parallel processing. Below is a simple example using the Python `multiprocessing` library."
      ]
    },
    {
      "cell_type": "code",
      "execution_count": null,
      "metadata": {
        "id": "BA3aMG8PB8Sr"
      },
      "outputs": [],
      "source": [
        "import multiprocessing\n",
        "\n",
        "# On some operaring systems, you may need to uncomment the below line\n",
        "# multiprocessing.set_start_method('fork')\n",
        "\n",
        "def f(task):\n",
        "    \"\"\"A function that print the input argument and the id for the process that executes the function\"\"\"\n",
        "    print(f\"Task index {task}, process id: {multiprocessing.current_process()}\\n\")\n",
        "\n",
        "    return str(multiprocessing.current_process())\n",
        "\n",
        "\n",
        "# Using 3 'processes', execute the function 'f' four times (each time with a different argument)\n",
        "with multiprocessing.Pool(processes=3) as p:\n",
        "    procs = p.map(f, [0, 1, 2, 3])  # Call function mysort three times\n",
        "\n",
        "    print(\"Returned data (a list)\")\n",
        "    print(procs)"
      ]
    },
    {
      "cell_type": "markdown",
      "metadata": {
        "id": "JpWxHVNEB8Sr"
      },
      "source": [
        "Consider the below code that creates a list of lists of sorted numbers."
      ]
    },
    {
      "cell_type": "code",
      "execution_count": null,
      "metadata": {
        "id": "wjY6mB3WB8Sr"
      },
      "outputs": [],
      "source": [
        "def mysort(N):\n",
        "    \"\"\"Create a randomly ordered list of integers of length N, and return the sorted list\"\"\"\n",
        "    # Create randomly ordered list\n",
        "    x = random.sample(range(0, N), N)\n",
        "\n",
        "    # Return sorted list of numbers\n",
        "    return sorted(x)\n",
        "\n",
        "def sorted_lists(N, p):\n",
        "    \"\"\"Create a list of sorted lists\"\"\"\n",
        "    data = []\n",
        "    for i in range(p):\n",
        "        data.append(mysort(N))\n",
        "\n",
        "%time x = sorted_lists(1000000, 5)"
      ]
    },
    {
      "cell_type": "markdown",
      "metadata": {
        "id": "iknl7h1BB8Sr"
      },
      "source": [
        "Use the `multiprocessing` module to perform the above operation in parallel. Investigate how the processing time changes with the number of processes, and in particular the average time per 'create and sort operation' when changing the number of processes."
      ]
    },
    {
      "cell_type": "code",
      "execution_count": null,
      "metadata": {
        "tags": [],
        "id": "kkF1G15AB8Sr"
      },
      "outputs": [],
      "source": [
        "..."
      ]
    }
  ],
  "metadata": {
    "celltoolbar": "Create Assignment",
    "kernelspec": {
      "display_name": "Python 3 (ipykernel)",
      "language": "python",
      "name": "python3"
    },
    "language_info": {
      "codemirror_mode": {
        "name": "ipython",
        "version": 3
      },
      "file_extension": ".py",
      "mimetype": "text/x-python",
      "name": "python",
      "nbconvert_exporter": "python",
      "pygments_lexer": "ipython3",
      "version": "3.10.6"
    },
    "otter": {
      "OK_FORMAT": true,
      "assignment_name": "Exercises 5",
      "tests": {}
    },
    "colab": {
      "provenance": [],
      "include_colab_link": true
    }
  },
  "nbformat": 4,
  "nbformat_minor": 0
}