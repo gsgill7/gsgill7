{
  "cells": [
    {
      "cell_type": "markdown",
      "metadata": {
        "id": "view-in-github",
        "colab_type": "text"
      },
      "source": [
        "<a href=\"https://colab.research.google.com/github/gsgill7/gsgill7/blob/main/Exercises/11%20Exercises.ipynb\" target=\"_parent\"><img src=\"https://colab.research.google.com/assets/colab-badge.svg\" alt=\"Open In Colab\"/></a>"
      ]
    },
    {
      "cell_type": "markdown",
      "metadata": {
        "id": "U0J9jQkh1Nu8"
      },
      "source": [
        "Import the modules that will be used."
      ]
    },
    {
      "cell_type": "code",
      "execution_count": 26,
      "metadata": {
        "id": "riCD73Xx1Nu9"
      },
      "outputs": [],
      "source": [
        "import numpy as np\n",
        "import math\n",
        "from scipy.special import factorial\n",
        "import matplotlib\n",
        "import matplotlib.pyplot as plt\n",
        "\n",
        "%matplotlib inline"
      ]
    },
    {
      "cell_type": "markdown",
      "metadata": {
        "nbgrader": {
          "grade": false,
          "grade_id": "cell-f3291e5d760308db",
          "locked": true,
          "schema_version": 3,
          "solution": false
        },
        "id": "mlPtMdg71Nu9"
      },
      "source": [
        "## Exercise 11.1\n",
        "\n",
        "Determine by counting the number of mathematical operations the complexity of:\n",
        "\n",
        "1. Dot product between two vectors\n",
        "1. Matrix-vector product\n",
        "1. Matrix-matrix product\n",
        "\n",
        "for vectors of length $n$ and matrices of size $n \\times n$.\n",
        "\n",
        "This is a reasoning exercise - you do not need to write a program. Express your answers in text and using LaTeX in a Markdown cell.\n",
        "\n",
        "\n",
        "### Optional\n",
        "\n",
        "Test the complexity experimentally with your own functions for performing the operations, and\n",
        "with the NumPy 'vectorised' equivalents."
      ]
    },
    {
      "cell_type": "markdown",
      "metadata": {
        "id": "kwm5RaRp1Nu-"
      },
      "source": [
        "Dot product: $O(n)$\n",
        "Matrix-vector product: $O(n^2)$\n",
        "Matrix-Matrix product: $O(n^3)$\n"
      ]
    },
    {
      "cell_type": "markdown",
      "metadata": {
        "id": "VywIAggT1Nu-"
      },
      "source": [
        "## Exercise 11.2\n",
        "\n",
        "For the recursive factorial algorithm in Activity 04, determine the algorithmic complexity by inspecting your implementation of the algorithm. Test this against numerical experiments."
      ]
    },
    {
      "cell_type": "markdown",
      "metadata": {
        "id": "8x6R2RRN1Nu-"
      },
      "source": [
        "### Solution"
      ]
    },
    {
      "cell_type": "markdown",
      "metadata": {
        "id": "hxdrZG3y1Nu-"
      },
      "source": [
        "Recall the factorial algorithm from Activity 04.4:"
      ]
    },
    {
      "cell_type": "code",
      "execution_count": 3,
      "metadata": {
        "id": "xtouU2LK1Nu-"
      },
      "outputs": [],
      "source": [
        "def factorial(n):\n",
        "    if n == 0:\n",
        "        return 1\n",
        "    else:\n",
        "        return factorial(n - 1)*n"
      ]
    },
    {
      "cell_type": "markdown",
      "metadata": {
        "id": "OaWVmUmg1Nu_"
      },
      "source": [
        "The function calls itself (recursively) $n$ times, hence it has complexity $O(n)$. We test this below and plot\n",
        "the times."
      ]
    },
    {
      "cell_type": "code",
      "execution_count": null,
      "metadata": {
        "nbgrader": {
          "grade": false,
          "grade_id": "cell-99456b1178be2bfe",
          "locked": false,
          "schema_version": 3,
          "solution": true
        },
        "tags": [],
        "id": "GrCuNan31Nu_"
      },
      "outputs": [],
      "source": [
        "x = np.arange(2,20)\n",
        "times = []\n",
        "for i in range(len(x)):\n",
        "    t= %timeit -o factorial(x[i])\n",
        "    times.append(t.best)\n",
        "plt.loglog(x, times, 'o-')\n",
        "plt.loglog(x, x*10**6, '--',  label=r'$O(n^2)$')\n",
        "plt.xlabel('n')\n",
        "plt.ylabel('time')\n"
      ]
    },
    {
      "cell_type": "markdown",
      "metadata": {
        "id": "9xAkdC2J1Nu_"
      },
      "source": [
        "## Exercise 11.3\n",
        "\n",
        "Determine experimentally the complexity of computing the determinant of a matrix. You can generate an $n \\times n$ matrix using:"
      ]
    },
    {
      "cell_type": "code",
      "execution_count": null,
      "metadata": {
        "id": "1x-MvAIx1Nu_"
      },
      "outputs": [],
      "source": [
        "n = 100\n",
        "A = np.random.rand(n, n)"
      ]
    },
    {
      "cell_type": "markdown",
      "metadata": {
        "id": "6ynAmazN1Nu_"
      },
      "source": [
        "and the determinant can be computed by:"
      ]
    },
    {
      "cell_type": "code",
      "execution_count": null,
      "metadata": {
        "id": "DFBewHZr1Nu_"
      },
      "outputs": [],
      "source": [
        "det = np.linalg.slogdet(A)"
      ]
    },
    {
      "cell_type": "markdown",
      "metadata": {
        "id": "AnH4M8q71NvA"
      },
      "source": [
        "Be sure that you test for sufficiently large $n$ to get into the 'large' $n$ regime."
      ]
    },
    {
      "cell_type": "markdown",
      "metadata": {
        "id": "StO2ELBP1NvA"
      },
      "source": [
        "### Solution"
      ]
    },
    {
      "cell_type": "markdown",
      "metadata": {
        "id": "NBNkcEwc1NvA"
      },
      "source": [
        "Time computation of determinant:"
      ]
    },
    {
      "cell_type": "code",
      "execution_count": 24,
      "metadata": {
        "nbgrader": {
          "grade": false,
          "grade_id": "cell-64f74c9716976d38",
          "locked": false,
          "schema_version": 3,
          "solution": true
        },
        "tags": [],
        "id": "SV5etedQ1NvA",
        "outputId": "0982480c-72fa-44f6-c7b6-b99e8b6fddee",
        "colab": {
          "base_uri": "https://localhost:8080/"
        }
      },
      "outputs": [
        {
          "output_type": "stream",
          "name": "stdout",
          "text": [
            "6.69 µs ± 94 ns per loop (mean ± std. dev. of 7 runs, 100000 loops each)\n",
            "9.46 µs ± 2.62 µs per loop (mean ± std. dev. of 7 runs, 100000 loops each)\n",
            "9.76 µs ± 132 ns per loop (mean ± std. dev. of 7 runs, 100000 loops each)\n",
            "22.2 µs ± 2.32 µs per loop (mean ± std. dev. of 7 runs, 10000 loops each)\n",
            "71.2 µs ± 19.1 µs per loop (mean ± std. dev. of 7 runs, 10000 loops each)\n",
            "377 µs ± 13.8 µs per loop (mean ± std. dev. of 7 runs, 1000 loops each)\n",
            "2.22 ms ± 981 µs per loop (mean ± std. dev. of 7 runs, 1000 loops each)\n",
            "14.9 ms ± 5.17 ms per loop (mean ± std. dev. of 7 runs, 100 loops each)\n",
            "66.8 ms ± 20.8 ms per loop (mean ± std. dev. of 7 runs, 10 loops each)\n",
            "442 ms ± 119 ms per loop (mean ± std. dev. of 7 runs, 1 loop each)\n"
          ]
        },
        {
          "output_type": "execute_result",
          "data": {
            "text/plain": [
              "Ellipsis"
            ]
          },
          "metadata": {},
          "execution_count": 24
        }
      ],
      "source": [
        "# Create array of problem sizes we want to test (powers of 2)\n",
        "N = 2**np.arange(2, 12)\n",
        "times = []\n",
        "for i in range(len(N)):\n",
        "    A = np.random.rand(N[i], N[i])\n",
        "    t= %timeit -o np.linalg.slogdet(A)\n",
        "    times.append(t.best)\n",
        "\n",
        "..."
      ]
    },
    {
      "cell_type": "code",
      "source": [
        "plt.loglog(N, times, 'o-')\n",
        "plt.loglog(N, (N**3), '--',  label=r'$O(n^2)$')\n",
        "plt.xlabel('n')\n",
        "plt.ylabel('time')"
      ],
      "metadata": {
        "id": "cBu6_hM9eNa5",
        "outputId": "376445bc-2c0a-4908-bd39-454430462e0a",
        "colab": {
          "base_uri": "https://localhost:8080/",
          "height": 472
        }
      },
      "execution_count": 39,
      "outputs": [
        {
          "output_type": "execute_result",
          "data": {
            "text/plain": [
              "Text(0, 0.5, 'time')"
            ]
          },
          "metadata": {},
          "execution_count": 39
        },
        {
          "output_type": "display_data",
          "data": {
            "text/plain": [
              "<Figure size 640x480 with 1 Axes>"
            ],
            "image/png": "[encoded data removed]"
          },
          "metadata": {}
        }
      ]
    },
    {
      "cell_type": "markdown",
      "metadata": {
        "id": "Y9Lqz0ZN1NvA"
      },
      "source": [
        "Plot result:"
      ]
    },
    {
      "cell_type": "code",
      "execution_count": null,
      "metadata": {
        "nbgrader": {
          "grade": false,
          "grade_id": "cell-4e4b2cc52b08f077",
          "locked": false,
          "schema_version": 3,
          "solution": true
        },
        "tags": [],
        "id": "H1ApxRbl1NvA"
      },
      "outputs": [],
      "source": [
        "..."
      ]
    }
  ],
  "metadata": {
    "celltoolbar": "Create Assignment",
    "kernelspec": {
      "display_name": "Python 3 (ipykernel)",
      "language": "python",
      "name": "python3"
    },
    "language_info": {
      "codemirror_mode": {
        "name": "ipython",
        "version": 3
      },
      "file_extension": ".py",
      "mimetype": "text/x-python",
      "name": "python",
      "nbconvert_exporter": "python",
      "pygments_lexer": "ipython3",
      "version": "3.9.14"
    },
    "otter": {
      "OK_FORMAT": true,
      "assignment_name": "Exercises 811",
      "tests": {}
    },
    "colab": {
      "provenance": [],
      "include_colab_link": true
    }
  },
  "nbformat": 4,
  "nbformat_minor": 0
}