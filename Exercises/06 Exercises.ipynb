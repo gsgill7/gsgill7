{
  "cells": [
    {
      "cell_type": "markdown",
      "metadata": {
        "id": "view-in-github",
        "colab_type": "text"
      },
      "source": [
        "<a href=\"https://colab.research.google.com/github/gsgill7/gsgill7/blob/main/Exercises/06%20Exercises.ipynb\" target=\"_parent\"><img src=\"https://colab.research.google.com/assets/colab-badge.svg\" alt=\"Open In Colab\"/></a>"
      ]
    },
    {
      "cell_type": "markdown",
      "metadata": {
        "nbgrader": {
          "grade": false,
          "grade_id": "cell-7b3313f25bceb7a2",
          "locked": true,
          "schema_version": 3,
          "solution": false
        },
        "id": "jTi8sJKhLLxx"
      },
      "source": [
        "## Exercise 06.1 (selecting and passing data structures)\n",
        "\n",
        "The task in Exercise 04 for computing the area of a triangle involved a function with six arguments ($x$ and $y$ components of each vertex). With six arguments, the likelihood of a user passing arguments in the wrong order is high.\n",
        "\n",
        "Use an appropriate data structure, e.g. a `list`, `tuple`, `dict`, etc, to develop a new version of the function with an improved interface (the interface is the arguments that are passed to the function) with fewer arguments. Add appropriate checks inside your function on the input data."
      ]
    },
    {
      "cell_type": "code",
      "execution_count": 9,
      "metadata": {
        "nbgrader": {
          "grade": false,
          "grade_id": "cell-50c4566d7bcbffaf",
          "locked": false,
          "schema_version": 3,
          "solution": true
        },
        "tags": [],
        "id": "e7GsKrpALLxy",
        "outputId": "33e3f1cd-ca77-45a2-f007-adecd8caf1e9",
        "colab": {
          "base_uri": "https://localhost:8080/"
        }
      },
      "outputs": [
        {
          "output_type": "stream",
          "name": "stdout",
          "text": [
            "3.0\n",
            "3.0\n"
          ]
        }
      ],
      "source": [
        "import math\n",
        "\n",
        "x0, y0 = 0.0, 0.0\n",
        "x1, y1 = 0.0, 2.0\n",
        "x2, y2 = 3.0, 0.0\n",
        "p0=(x0,y0)\n",
        "p1=(x1,y1)\n",
        "p2=(x2,y2)\n",
        "coords = (p0,p1,p2)\n",
        "print(coords[2][0])\n",
        "def area(coords):\n",
        "    return abs((coords[0][0]*(coords[1][1]-coords[2][1]) + coords[1][0]*(coords[2][1]-coords[0][1]) + coords[2][0]*(coords[0][1]-coords[1][1]))/ 2)\n",
        "\n",
        "A = area(coords)\n",
        "print(A)\n",
        "assert math.isclose(A, 3.0)"
      ]
    },
    {
      "cell_type": "markdown",
      "metadata": {
        "nbgrader": {
          "grade": false,
          "grade_id": "cell-5065052af9989fdf",
          "locked": true,
          "schema_version": 3,
          "solution": false
        },
        "id": "phyTaLzhLLxz"
      },
      "source": [
        "## Exercise 06.2 (selecting data structures)\n",
        "\n",
        "For a simple (non-intersecting) polygon with $n$ vertices, $(x_0, y_0)$, $(x_1, y_1)$, . . , $(x_{n-1}, y_{n-1})$, the area $A$ is given by\n",
        "$$\n",
        "A = \\left| \\frac{1}{2} \\sum_{i=0}^{n-1} \\left(x_{i} y _{i+1} - x_{i+1} y_{i} \\right) \\right|\n",
        "$$\n",
        "and where $(x_n, y_n) = (x_0, y_0)$. The vertices should be ordered as you move around the polygon.\n",
        "\n",
        "Write a function that, given only the vertex coordinates, computes the area of a simple polygon. Test your function for some simple shapes. Pay careful attention to the range of any loops. **Test for polygons without a vertex at the origin.**"
      ]
    },
    {
      "cell_type": "code",
      "execution_count": 13,
      "metadata": {
        "nbgrader": {
          "grade": false,
          "grade_id": "cell-4b5a619405787746",
          "locked": false,
          "schema_version": 3,
          "solution": true
        },
        "tags": [],
        "id": "Wdw3rKeTLLx0",
        "outputId": "4b23f064-d152-4969-9543-a0df2dc0c2ad",
        "colab": {
          "base_uri": "https://localhost:8080/"
        }
      },
      "outputs": [
        {
          "output_type": "stream",
          "name": "stdout",
          "text": [
            "1.0\n",
            "1.0\n",
            "0.5\n",
            "0.5\n"
          ]
        }
      ],
      "source": [
        "square = [(0,0),(1,0),(1,1),(0,1)]\n",
        "triangle = [(0,0),(1,0),(1,1)]\n",
        "def area(points):\n",
        "  area=0\n",
        "  for n, point in enumerate(points):\n",
        "    area += 0.5*((points[n][0]*points[(n+1)%len(points)][1])-(points[(n+1)%len(points)][0]*points[n][1]))\n",
        "  #print(area)\n",
        "  return(area)\n",
        "print(area(square))\n",
        "print(area(triangle))"
      ]
    },
    {
      "cell_type": "markdown",
      "metadata": {
        "nbgrader": {
          "grade": false,
          "grade_id": "cell-ced99a38c7bbe7a0",
          "locked": true,
          "schema_version": 3,
          "solution": false
        },
        "id": "pE0cYj7oLLx1"
      },
      "source": [
        "## Exercise 06.3 (indexing)\n",
        "\n",
        "Write a function that uses list indexing to add two vectors of arbitrary length, and returns the new vector. Include a check that the vector sizes match. Print a warning message if there is a size mismatch. The more error information you provide, the easier it would be for someone using your function to debug their code.\n",
        "\n",
        "Add some tests of your code.\n",
        "\n",
        "#### Hint: You can create a list of zeros of length `n` by\n",
        "\n",
        "    z = [0]*n"
      ]
    },
    {
      "cell_type": "code",
      "execution_count": 14,
      "metadata": {
        "nbgrader": {
          "grade": false,
          "grade_id": "cell-47daca03f7a96b62",
          "locked": false,
          "schema_version": 3,
          "solution": true
        },
        "tags": [],
        "id": "yU6GHHVULLx1"
      },
      "outputs": [],
      "source": [
        "def sum_vector(x, y):\n",
        "    \"\"\"Return sum of two vectors\"\"\"\n",
        "    if len(x) != len(y):\n",
        "      print(\"size mismatch\")\n",
        "      return\n",
        "    z = [0]*len(x)\n",
        "    for i in range(len(x)):\n",
        "      z[i] = x[i] + y[i]\n",
        "    return z"
      ]
    },
    {
      "cell_type": "code",
      "execution_count": 15,
      "metadata": {
        "nbgrader": {
          "grade": true,
          "grade_id": "cell-95f5819810d2b2c7",
          "locked": true,
          "points": 0,
          "schema_version": 3,
          "solution": false
        },
        "id": "8MQ9T8W4LLx2"
      },
      "outputs": [],
      "source": [
        "# tests ##\n",
        "a = [0, 4.3, -5, 7]\n",
        "b = [-2, 7, -15, 1]\n",
        "c = sum_vector(a, b)\n",
        "assert c == [-2, 11.3, -20, 8]"
      ]
    },
    {
      "cell_type": "markdown",
      "metadata": {
        "id": "mhwGX7NjLLx2"
      },
      "source": [
        "### Optional (advanced)\n",
        "\n",
        "Try writing a one-line version that performs the `sum_vector` operation using list comprehension and the built-in function [`zip`](https://docs.python.org/3/library/functions.html#zip)."
      ]
    },
    {
      "cell_type": "code",
      "execution_count": null,
      "metadata": {
        "nbgrader": {
          "grade": true,
          "grade_id": "cell-c182b3f0d8952692",
          "locked": false,
          "points": 0,
          "schema_version": 3,
          "solution": true
        },
        "tags": [],
        "id": "wo8htwFQLLx2"
      },
      "outputs": [],
      "source": [
        "..."
      ]
    },
    {
      "cell_type": "markdown",
      "metadata": {
        "id": "-82trrIcLLx3"
      },
      "source": [
        "## Exercise 06.4 (dictionaries)\n",
        "\n",
        "Create a dictionary that maps college names (the key) to college abbreviations for at least 5 colleges\n",
        "(you can find abbreviations at https://en.wikipedia.org/wiki/Colleges_of_the_University_of_Cambridge#Colleges).\n",
        "From the dictionary, produce and print\n",
        "\n",
        "1. A Python dictionary from college abbreviation to name; and\n",
        "1. A Python list of college abbreviations sorted into alphabetical order.\n",
        "\n",
        "*Optional extension:* Create a dictionary that maps college names (the key) to dictionaries of:\n",
        "\n",
        "- College abbreviation\n",
        "- Year of foundation\n",
        "- Total number students\n",
        "\n",
        "for at least 5 colleges. Take the data from https://en.wikipedia.org/wiki/Colleges_of_the_University_of_Cambridge#Colleges. Using this dictionary,\n",
        "\n",
        "1. Find the college with the greatest number of students and print the abbreviation; and\n",
        "2. Find the oldest college, and print the number of students and the abbreviation for this college."
      ]
    },
    {
      "cell_type": "code",
      "execution_count": 18,
      "metadata": {
        "nbgrader": {
          "grade": false,
          "grade_id": "cell-bc271dc3885e19c5",
          "locked": false,
          "schema_version": 3,
          "solution": true
        },
        "tags": [],
        "id": "2akw98X1LLx3",
        "outputId": "49271e2f-d195-41da-91c4-9b5c70aa0265",
        "colab": {
          "base_uri": "https://localhost:8080/"
        }
      },
      "outputs": [
        {
          "output_type": "stream",
          "name": "stdout",
          "text": [
            "{'Trinity Hall': 'TH', 'Gonville and Caius': 'CAI', 'Corpus Christi': 'CC', 'Clare': 'CL', \"St John's\": 'JN'}\n",
            "{'TH': 'Trinity Hall', 'CAI': 'Gonville and Caius', 'CC': 'Corpus Christi', 'CL': 'Clare', 'JN': \"St John's\"}\n",
            "['CAI', 'CC', 'CL', 'JN', 'TH']\n"
          ]
        }
      ],
      "source": [
        "college_abbr = {\"Trinity Hall\" : \"TH\", \"Gonville and Caius\":\"CAI\", \"Corpus Christi\" : \"CC\", \"Clare\": \"CL\", \"St John's\" : \"JN\"}\n",
        "print(college_abbr)\n",
        "college_abbr_rev = {abbr: name for name, abbr in college_abbr.items()}\n",
        "print(college_abbr_rev)\n",
        "college_abbr_list = sorted(college_abbr.values())\n",
        "print(college_abbr_list)"
      ]
    },
    {
      "cell_type": "markdown",
      "metadata": {
        "nbgrader": {
          "grade": false,
          "grade_id": "cell-45d2551a524193b0",
          "locked": true,
          "schema_version": 3,
          "solution": false
        },
        "id": "ZOl57LrQLLx3"
      },
      "source": [
        "#### Optional extension"
      ]
    },
    {
      "cell_type": "code",
      "execution_count": null,
      "metadata": {
        "nbgrader": {
          "grade": false,
          "grade_id": "cell-7040c4053c72ce09",
          "locked": false,
          "schema_version": 3,
          "solution": true
        },
        "tags": [],
        "id": "FrH-HNbBLLx4"
      },
      "outputs": [],
      "source": [
        "..."
      ]
    }
  ],
  "metadata": {
    "celltoolbar": "Create Assignment",
    "kernelspec": {
      "display_name": "Python 3 (ipykernel)",
      "language": "python",
      "name": "python3"
    },
    "language_info": {
      "codemirror_mode": {
        "name": "ipython",
        "version": 3
      },
      "file_extension": ".py",
      "mimetype": "text/x-python",
      "name": "python",
      "nbconvert_exporter": "python",
      "pygments_lexer": "ipython3",
      "version": "3.10.6"
    },
    "otter": {
      "OK_FORMAT": true,
      "assignment_name": "Exercises 6",
      "tests": {}
    },
    "colab": {
      "provenance": [],
      "include_colab_link": true
    }
  },
  "nbformat": 4,
  "nbformat_minor": 0
}