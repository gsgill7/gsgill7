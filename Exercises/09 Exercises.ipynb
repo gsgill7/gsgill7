{
  "cells": [
    {
      "cell_type": "markdown",
      "metadata": {
        "id": "view-in-github",
        "colab_type": "text"
      },
      "source": [
        "<a href=\"https://colab.research.google.com/github/gsgill7/gsgill7/blob/main/Exercises/09%20Exercises.ipynb\" target=\"_parent\"><img src=\"https://colab.research.google.com/assets/colab-badge.svg\" alt=\"Open In Colab\"/></a>"
      ]
    },
    {
      "cell_type": "markdown",
      "metadata": {
        "id": "iTFutPPnFVAw"
      },
      "source": [
        "## Exercise 09.1 (checking data validity)\n",
        "\n",
        "The Fibonacci series is valid only for $n \\ge 0$. Add to the Fibonacci function in this notebook a check that raises an exception if $n < 0$. Try some invalid data cases to check that an exception is raised.\n",
        "\n",
        "*Optional:* Use `pytest` to test that an exception *is* raised for some $n < 0$ cases."
      ]
    },
    {
      "cell_type": "code",
      "execution_count": 15,
      "metadata": {
        "nbgrader": {
          "grade": false,
          "grade_id": "cell-982c3611466532a2",
          "locked": false,
          "schema_version": 3,
          "solution": true
        },
        "tags": [],
        "id": "l3a-ifsoFVAx"
      },
      "outputs": [],
      "source": [
        "def f(n):\n",
        "    \"Compute the nth Fibonacci number using recursion\"\n",
        "    if n < 0:\n",
        "        raise ValueError(\"n must be non-negative\")\n",
        "    if n == 0:\n",
        "        return 0\n",
        "    elif n == 1:\n",
        "        return 1\n",
        "    else:\n",
        "      x1, x2 = 0, 1\n",
        "      for i in range(n-1):\n",
        "        x1, x2 = x2, x1 + x2\n",
        "      return x2\n",
        "    ..."
      ]
    },
    {
      "cell_type": "code",
      "execution_count": 16,
      "metadata": {
        "nbgrader": {
          "grade": true,
          "grade_id": "cell-9b97ea3e85d77f4a",
          "locked": true,
          "points": 0,
          "schema_version": 3,
          "solution": false
        },
        "id": "jtVLyw26FVAx",
        "outputId": "8021f263-cc8b-46c9-8d33-9df0f4aeabf8",
        "colab": {
          "base_uri": "https://localhost:8080/"
        }
      },
      "outputs": [
        {
          "output_type": "stream",
          "name": "stdout",
          "text": [
            "1\n"
          ]
        }
      ],
      "source": [
        "## tests ##\n",
        "#print(f(2))\n",
        "# Perform some tests\n",
        "assert f(0) == 0\n",
        "assert f(1) == 1\n",
        "assert f(2) == 1\n",
        "assert f(3) == 2\n",
        "assert f(10) == 55\n",
        "assert f(15) == 610\n",
        "\n",
        "# Check that ValueError is raised for n < 0\n",
        "import pytest\n",
        "with pytest.raises(ValueError):\n",
        "    f(-1)\n",
        "with pytest.raises(ValueError):\n",
        "    f(-2)"
      ]
    },
    {
      "cell_type": "markdown",
      "metadata": {
        "nbgrader": {
          "grade": false,
          "grade_id": "cell-69c78c0ffc19db36",
          "locked": true,
          "schema_version": 3,
          "solution": false
        },
        "id": "L2RpOAJbFVAy"
      },
      "source": [
        "## Exercise 09.2 (raising exceptions)\n",
        "\n",
        "Modify your program from the bisection exercise in Activity 04 to raise an error if the maximum number of iterations is exceeded. Reduce the maximum allowed iterations to test that an exception is raised.\n",
        "\n",
        "Add any other checks on the input data that you think are appropriate."
      ]
    },
    {
      "cell_type": "code",
      "execution_count": 19,
      "metadata": {
        "nbgrader": {
          "grade": false,
          "grade_id": "cell-ca2c3ee62ad3b956",
          "locked": false,
          "schema_version": 3,
          "solution": true
        },
        "tags": [],
        "id": "HXsDzPGBFVAy"
      },
      "outputs": [],
      "source": [
        "def my_f(x):\n",
        "    \"\"\"Evaluate polynomial function\"\"\"\n",
        "    return x**5 / 10 + x**3 - 10 * x**2 + 4 * x + 7\n",
        "\n",
        "\n",
        "def compute_root(f, x0, x1, tol, max_it):\n",
        "    \"\"\"Compute roots of a function using bisection\"\"\"\n",
        "    error = tol + 1.0\n",
        "\n",
        "# Iterate until tolerance is met\n",
        "    it = 0\n",
        "    while error > tol:\n",
        "        # Compute midpoint\n",
        "        x_mid = (x0 + x1) / 2\n",
        "\n",
        "        # Evaluate function at (i) left end-point and at (ii) midpoint\n",
        "        f0 = f(x0)\n",
        "        f_mid = f(x_mid)\n",
        "\n",
        "        if f_mid*f0 < 0:\n",
        "          x1 = x_mid\n",
        "        else:\n",
        "          x0 = x_mid\n",
        "\n",
        "        error = abs(f_mid)\n",
        "        it += 1\n",
        "\n",
        "        # Guard against an infinite loop\n",
        "        if it > max_it:\n",
        "          raise RuntimeError(\"Maximum number of iterations exceeded\")\n",
        "\n",
        "        #print(it, x_mid, error)\n",
        "    return x_mid, f_mid, it"
      ]
    },
    {
      "cell_type": "code",
      "execution_count": 20,
      "metadata": {
        "nbgrader": {
          "grade": true,
          "grade_id": "cell-f6cf91ed5dd1736b",
          "locked": true,
          "points": 0,
          "schema_version": 3,
          "solution": false
        },
        "id": "v53FlkWPFVAy",
        "outputId": "7901711d-4afd-4061-eaf7-e7a187ffc36b",
        "colab": {
          "base_uri": "https://localhost:8080/"
        }
      },
      "outputs": [
        {
          "output_type": "stream",
          "name": "stdout",
          "text": [
            "1 1.0 2.0999999999999996\n",
            "2 1.5 5.365625000000001\n",
            "3 1.25 1.36669921875\n",
            "4 1.125 0.4477813720703132\n",
            "5 1.1875 0.4408627510070797\n",
            "6 1.15625 0.008327355980872753\n",
            "7 1.171875 0.21507753478363156\n",
            "8 1.1640625 0.1030741602036862\n",
            "9 1.16015625 0.04729774910292761\n",
            "10 1.158203125 0.019466230897839054\n",
            "11 1.1572265625 0.005564689502373099\n",
            "12 1.15673828125 0.0013825210451265946\n",
            "13 1.156982421875 0.0020907873792292975\n",
            "14 1.1568603515625 0.00035405894194262544\n",
            "15 1.15679931640625 0.0005142496094645566\n",
            "16 1.156829833984375 8.009997302949046e-05\n",
            "17 1.1568450927734375 0.00013697832466341708\n",
            "18 1.1568374633789062 2.8438885864900953e-05\n",
            "19 1.1568336486816406 2.5830616070976475e-05\n",
            "20 1.1568355560302734 1.304116775457942e-06\n",
            "21 1.156834602355957 1.2263254177469207e-05\n",
            "22 1.1568350791931152 5.479569834321296e-06\n",
            "23 1.1568353176116943 2.087726812760593e-06\n",
            "24 1.1568354368209839 3.9180508970559913e-07\n",
            "1 1.0 2.0999999999999996\n",
            "2 1.5 5.365625000000001\n",
            "3 1.25 1.36669921875\n",
            "4 1.125 0.4477813720703132\n",
            "5 1.1875 0.4408627510070797\n",
            "6 1.15625 0.008327355980872753\n",
            "7 1.171875 0.21507753478363156\n",
            "8 1.1640625 0.1030741602036862\n",
            "9 1.16015625 0.04729774910292761\n",
            "10 1.158203125 0.019466230897839054\n",
            "11 1.1572265625 0.005564689502373099\n",
            "12 1.15673828125 0.0013825210451265946\n",
            "13 1.156982421875 0.0020907873792292975\n",
            "14 1.1568603515625 0.00035405894194262544\n",
            "15 1.15679931640625 0.0005142496094645566\n",
            "16 1.156829833984375 8.009997302949046e-05\n",
            "17 1.1568450927734375 0.00013697832466341708\n",
            "18 1.1568374633789062 2.8438885864900953e-05\n",
            "19 1.1568336486816406 2.5830616070976475e-05\n",
            "20 1.1568355560302734 1.304116775457942e-06\n"
          ]
        }
      ],
      "source": [
        "## tests ##\n",
        "\n",
        "# Test with max_it = 30\n",
        "x, f, num_it = compute_root(my_f, x0=0, x1=2, tol=1.0e-6, max_it=30)\n",
        "\n",
        "# Test with max_it = 20\n",
        "with pytest.raises(RuntimeError):\n",
        "    x, f, num_it = compute_root(my_f, x0=0, x1=2, tol=1.0e-6, max_it=20)"
      ]
    }
  ],
  "metadata": {
    "celltoolbar": "Create Assignment",
    "kernelspec": {
      "display_name": "Python 3 (ipykernel)",
      "language": "python",
      "name": "python3"
    },
    "language_info": {
      "codemirror_mode": {
        "name": "ipython",
        "version": 3
      },
      "file_extension": ".py",
      "mimetype": "text/x-python",
      "name": "python",
      "nbconvert_exporter": "python",
      "pygments_lexer": "ipython3",
      "version": "3.10.6"
    },
    "otter": {
      "OK_FORMAT": true,
      "assignment_name": "Exercises 9",
      "tests": {}
    },
    "colab": {
      "provenance": [],
      "include_colab_link": true
    }
  },
  "nbformat": 4,
  "nbformat_minor": 0
}