{
  "cells": [
    {
      "cell_type": "markdown",
      "metadata": {
        "id": "view-in-github",
        "colab_type": "text"
      },
      "source": [
        "<a href=\"https://colab.research.google.com/github/gsgill7/gsgill7/blob/main/Exercises/01%20Exercises.ipynb\" target=\"_parent\"><img src=\"https://colab.research.google.com/assets/colab-badge.svg\" alt=\"Open In Colab\"/></a>"
      ]
    },
    {
      "cell_type": "markdown",
      "metadata": {
        "id": "Kt9IP99ank2j"
      },
      "source": [
        "## Exercise 01.1\n",
        "\n",
        "Degrees Fahrenheit ($T_F$) are converted to degrees Celsius ($T_c$) using the formula:\n",
        "\n",
        "$$\n",
        "T_c = 5(T_f - 32)/9\n",
        "$$\n",
        "\n",
        "Write a program to convert 46 degrees Fahrenheit to degrees Celsius and print the result.\n",
        "Write your program such that you can easily change the temperature in Fahrenheit that you are converting from.\n",
        "\n",
        "Use the variable name `T_c` for the temperature in degrees Celsius."
      ]
    },
    {
      "cell_type": "code",
      "execution_count": 4,
      "metadata": {
        "nbgrader": {
          "grade": false,
          "grade_id": "cell-ca2d6af7fabf2918",
          "locked": false,
          "schema_version": 3,
          "solution": true
        },
        "tags": [],
        "colab": {
          "base_uri": "https://localhost:8080/"
        },
        "id": "4EQgI1annk2l",
        "outputId": "5f91da9f-0c5a-4a0a-a162-44b666e36bbf"
      },
      "outputs": [
        {
          "output_type": "stream",
          "name": "stdout",
          "text": [
            "7.777777777777778\n"
          ]
        },
        {
          "output_type": "execute_result",
          "data": {
            "text/plain": [
              "Ellipsis"
            ]
          },
          "metadata": {},
          "execution_count": 4
        }
      ],
      "source": [
        "Tf = 46\n",
        "T_c = 5*(Tf-32)/9\n",
        "print(T_c)\n",
        "..."
      ]
    },
    {
      "cell_type": "code",
      "execution_count": 5,
      "metadata": {
        "nbgrader": {
          "grade": true,
          "grade_id": "cell-a7542313c8cdf4ed",
          "locked": true,
          "points": 0,
          "schema_version": 3,
          "solution": false
        },
        "id": "zXZgeKzink2l"
      },
      "outputs": [],
      "source": [
        "## test ##\n",
        "import math\n",
        "assert math.isclose(T_c, 7.77777777777777)"
      ]
    },
    {
      "cell_type": "markdown",
      "metadata": {
        "id": "HkRDXqhynk2l"
      },
      "source": [
        "## Exercise 01.2\n",
        "\n",
        "You have been tasked with developing a mortgage affordability test tool. A component is to compute the monthly\n",
        "interest payments for a range of scenarios.\n",
        "\n",
        "Interest on a particular mortgage is charged at fixed rate above the Bank of England (BoE) 'official Bank Rate'.\n",
        "Interest is computed per annum, and interest payments spread equally over each month of the year.\n",
        "Write a program that computes the interest payable each month, with variables for:\n",
        "\n",
        "1. Loan principal (amount borrowed, fixed)\n",
        "1. Official Bank Rate (percentage, expressed per annum)\n",
        "1. Rate over the official Bank Rate (percentage, expressed per annum)\n",
        "\n",
        "Test your program with a loan principal of £172,000, BoE rate of 2.25%, and rate over the\n",
        "BoE rate of 1.49%. Use the variable name `interest` for the monthly interest amount."
      ]
    },
    {
      "cell_type": "code",
      "execution_count": 6,
      "metadata": {
        "nbgrader": {
          "grade": false,
          "grade_id": "cell-aaab53918bb9627d",
          "locked": false,
          "schema_version": 3,
          "solution": true
        },
        "tags": [],
        "colab": {
          "base_uri": "https://localhost:8080/"
        },
        "id": "dw1fcCgbnk2l",
        "outputId": "cc58e4fd-0ed2-494b-b8b7-8c4603cfbc15"
      },
      "outputs": [
        {
          "output_type": "stream",
          "name": "stdout",
          "text": [
            "536.0666666666667\n"
          ]
        },
        {
          "output_type": "execute_result",
          "data": {
            "text/plain": [
              "Ellipsis"
            ]
          },
          "metadata": {},
          "execution_count": 6
        }
      ],
      "source": [
        "# Assign data to variables\n",
        "principal = 172000\n",
        "rate = 2.25\n",
        "rate_over = 1.49\n",
        "\n",
        "# convert percentage to decimal\n",
        "total_rate = rate + rate_over\n",
        "interest = principal * (total_rate/100)/12\n",
        "print(interest)\n",
        "..."
      ]
    },
    {
      "cell_type": "code",
      "execution_count": 7,
      "metadata": {
        "nbgrader": {
          "grade": true,
          "grade_id": "cell-258e3a2c80f6a765",
          "locked": true,
          "points": 0,
          "schema_version": 3,
          "solution": false
        },
        "id": "HG1GdP5snk2m"
      },
      "outputs": [],
      "source": [
        "## test ##\n",
        "assert math.isclose(interest, 536.0666666666667)"
      ]
    }
  ],
  "metadata": {
    "celltoolbar": "Create Assignment",
    "kernelspec": {
      "display_name": "Python 3 (ipykernel)",
      "language": "python",
      "name": "python3"
    },
    "language_info": {
      "codemirror_mode": {
        "name": "ipython",
        "version": 3
      },
      "file_extension": ".py",
      "mimetype": "text/x-python",
      "name": "python",
      "nbconvert_exporter": "python",
      "pygments_lexer": "ipython3",
      "version": "3.10.6"
    },
    "otter": {
      "OK_FORMAT": true,
      "assignment_name": "Exercises 1",
      "tests": {}
    },
    "colab": {
      "provenance": [],
      "include_colab_link": true
    }
  },
  "nbformat": 4,
  "nbformat_minor": 0
}